{
 "cells": [
  {
   "cell_type": "code",
   "execution_count": 1,
   "metadata": {},
   "outputs": [],
   "source": [
    "import os"
   ]
  },
  {
   "cell_type": "code",
   "execution_count": null,
   "metadata": {},
   "outputs": [],
   "source": [
    "%pwd"
   ]
  },
  {
   "cell_type": "code",
   "execution_count": null,
   "metadata": {},
   "outputs": [],
   "source": [
    "os.chdir(\"../\")\n",
    "%pwd"
   ]
  },
  {
   "cell_type": "code",
   "execution_count": 4,
   "metadata": {},
   "outputs": [],
   "source": [
    "# raw_data_path = \"data ingestion\\\\ptb-xl-a-large-publicly-available-electrocardiography-dataset-1.0.1\"\n",
    "# data_path  = os.path.join(os.getcwd(),raw_data_path)\n",
    "# data_path"
   ]
  },
  {
   "cell_type": "code",
   "execution_count": 5,
   "metadata": {},
   "outputs": [],
   "source": [
    "from dataclasses import dataclass\n",
    "from pathlib import Path\n",
    "\n",
    "\n",
    "@dataclass(frozen=True)\n",
    "class DataIngestionConfig:\n",
    "    root_dir: Path\n",
    "    source_URL: str\n",
    "    local_data_file: Path\n",
    "    unzip_dir: Path"
   ]
  },
  {
   "cell_type": "code",
   "execution_count": 6,
   "metadata": {},
   "outputs": [],
   "source": [
    "from heartDiseaseClassification.constant import *\n",
    "from heartDiseaseClassification.utils.common import read_yaml, create_directories"
   ]
  },
  {
   "cell_type": "code",
   "execution_count": 7,
   "metadata": {},
   "outputs": [],
   "source": [
    "class ConfigurationManager:\n",
    "    def __init__(\n",
    "        self,\n",
    "        config_filepath = CONFIG_FILE_PATH,\n",
    "        params_filepath = PARAMS_FILE_PATH):\n",
    "\n",
    "        self.config = read_yaml(config_filepath)\n",
    "        self.params = read_yaml(params_filepath)\n",
    "\n",
    "        create_directories([self.config.artifacts_root])\n",
    "\n",
    "\n",
    "    \n",
    "    def get_data_ingestion_config(self) -> DataIngestionConfig:\n",
    "        config = self.config.data_ingestion\n",
    "\n",
    "        create_directories([config.root_dir])\n",
    "\n",
    "        data_ingestion_config = DataIngestionConfig(\n",
    "            root_dir=config.root_dir,\n",
    "            source_URL=config.source_URL,\n",
    "            local_data_file=config.local_data_file,\n",
    "            unzip_dir=config.unzip_dir \n",
    "        )\n",
    "\n",
    "        return data_ingestion_config"
   ]
  },
  {
   "cell_type": "code",
   "execution_count": 8,
   "metadata": {},
   "outputs": [],
   "source": [
    "import os\n",
    "import zipfile\n",
    "import urllib.request as request\n",
    "from heartDiseaseClassification import logger\n",
    "from heartDiseaseClassification.utils.common import get_size"
   ]
  },
  {
   "cell_type": "code",
   "execution_count": 9,
   "metadata": {},
   "outputs": [],
   "source": [
    "class DataIngestion:\n",
    "    def __init__(self, config: DataIngestionConfig):\n",
    "        self.config = config\n",
    "\n",
    "    def download_progress_hook(self, count, blockSize, totalSize):\n",
    "        old_percent = 0\n",
    "        percent = int(count * blockSize * 100 / totalSize)\n",
    "        if percent > old_percent:\n",
    "            old_percent = percent\n",
    "            os.system('cls')\n",
    "            print(percent, '%')\n",
    "        if percent == 100:\n",
    "            os.system('cls')\n",
    "            print('done!')\n",
    "            \n",
    "    def download_file(self):\n",
    "        '''\n",
    "        Fetch data from the url\n",
    "        '''\n",
    "        logger.info(f\"downloading the data from url {self.config.source_URL}\")\n",
    "        if not os.path.exists(self.config.local_data_file):\n",
    "            filename, headers = request.urlretrieve(\n",
    "                url = self.config.source_URL,\n",
    "                filename = self.config.local_data_file,\n",
    "                reporthook=self.download_progress_hook,\n",
    "\n",
    "            )\n",
    "            logger.info(f\"{filename}, download! with the following info {headers}\")\n",
    "        else:\n",
    "            logger.info(f\"File already exists of size: {get_size(Path(self.config.local_data_file))}\")\n",
    "        \n",
    "    \n",
    "\n",
    "    def extract_zip_file(self):\n",
    "        \"\"\"\n",
    "        zip_file_path: str\n",
    "        Extracts the zip file into the data directory\n",
    "        Function returns None\n",
    "        \"\"\"\n",
    "        logger.info(f\"extracting the data from {self.config.local_data_file}\")\n",
    "        unzip_path = self.config.unzip_dir\n",
    "        os.makedirs(unzip_path, exist_ok=True)\n",
    "        with zipfile.ZipFile(self.config.local_data_file, 'r') as zip_ref:\n",
    "            zip_ref.extractall(unzip_path)\n",
    "        logger.info(f\"Extraction of the data complete!! at location {unzip_path}\")\n",
    "        "
   ]
  },
  {
   "cell_type": "code",
   "execution_count": 10,
   "metadata": {},
   "outputs": [
    {
     "name": "stdout",
     "output_type": "stream",
     "text": [
      "[2024-02-14 11:49:57: \u001b[32mINFO\u001b[0m: common: yaml files: config.yaml loadded successfully!!]\u001b[0m\n",
      "[2024-02-14 11:49:57: \u001b[32mINFO\u001b[0m: common: yaml files: params.yaml loadded successfully!!]\u001b[0m\n",
      "[2024-02-14 11:49:57: \u001b[32mINFO\u001b[0m: common: created director at : artifacts]\u001b[0m\n",
      "[2024-02-14 11:49:57: \u001b[32mINFO\u001b[0m: common: created director at : artifacts/data_ingestion]\u001b[0m\n",
      "[2024-02-14 11:49:57: \u001b[32mINFO\u001b[0m: 625064437: extracting the data from artifacts/data_ingestion/ptb-xl-a-large-publicly-available-electrocardiography-dataset-1.0.3.zip]\u001b[0m\n"
     ]
    },
    {
     "name": "stdout",
     "output_type": "stream",
     "text": [
      "[2024-02-14 11:51:56: \u001b[32mINFO\u001b[0m: 625064437: Extraction of the data complete!! at location artifacts/data_ingestion]\u001b[0m\n"
     ]
    }
   ],
   "source": [
    "try:\n",
    "    config = ConfigurationManager()\n",
    "    data_ingestion_config = config.get_data_ingestion_config()\n",
    "    logger.debug(f\"ingestion_config complete\")\n",
    "    data_ingestion = DataIngestion(config=data_ingestion_config)\n",
    "    logger.debug(f\"data_ingestion create, before dowload file\")\n",
    "    # data_ingestion.download_file()\n",
    "    logger.debug(f\"download file completed\")\n",
    "    data_ingestion.extract_zip_file()\n",
    "    logger.debug(f\"zip file extracted\")\n",
    "except Exception as e:\n",
    "    raise e"
   ]
  },
  {
   "cell_type": "code",
   "execution_count": null,
   "metadata": {},
   "outputs": [],
   "source": [
    "try:\n",
    "    config = ConfigurationManager()\n",
    "    data_ingestion_config = config.get_data_ingestion_config()\n",
    "    data_ingestion = DataIngestion(config=data_ingestion_config)\n",
    "    data_ingestion.download_file()\n",
    "    data_ingestion.extract_zip_file()\n",
    "except Exception as e:\n",
    "    raise e"
   ]
  }
 ],
 "metadata": {
  "kernelspec": {
   "display_name": "disease",
   "language": "python",
   "name": "python3"
  },
  "language_info": {
   "codemirror_mode": {
    "name": "ipython",
    "version": 3
   },
   "file_extension": ".py",
   "mimetype": "text/x-python",
   "name": "python",
   "nbconvert_exporter": "python",
   "pygments_lexer": "ipython3",
   "version": "3.11.0"
  }
 },
 "nbformat": 4,
 "nbformat_minor": 2
}
